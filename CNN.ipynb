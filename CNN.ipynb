{
  "nbformat": 4,
  "nbformat_minor": 0,
  "metadata": {
    "colab": {
      "name": "CNN.ipynb",
      "version": "0.3.2",
      "provenance": [],
      "collapsed_sections": []
    },
    "kernelspec": {
      "name": "python3",
      "display_name": "Python 3"
    },
    "accelerator": "GPU"
  },
  "cells": [
    {
      "metadata": {
        "id": "_fIMt6neFuOP",
        "colab_type": "code",
        "outputId": "b3c80aef-2874-4e91-ea63-0ba7f5bb60f7",
        "colab": {
          "base_uri": "https://localhost:8080/",
          "height": 122
        }
      },
      "cell_type": "code",
      "source": [
        "# Load the Drive helper and mount\n",
        "from google.colab import drive\n",
        "\n",
        "# This will prompt for authorization.\n",
        "drive.mount('/content/drive')"
      ],
      "execution_count": 0,
      "outputs": [
        {
          "output_type": "stream",
          "text": [
            "Go to this URL in a browser: https://accounts.google.com/o/oauth2/auth?client_id=947318989803-6bn6qk8qdgf4n4g3pfee6491hc0brc4i.apps.googleusercontent.com&redirect_uri=urn%3Aietf%3Awg%3Aoauth%3A2.0%3Aoob&scope=email%20https%3A%2F%2Fwww.googleapis.com%2Fauth%2Fdocs.test%20https%3A%2F%2Fwww.googleapis.com%2Fauth%2Fdrive%20https%3A%2F%2Fwww.googleapis.com%2Fauth%2Fdrive.photos.readonly%20https%3A%2F%2Fwww.googleapis.com%2Fauth%2Fpeopleapi.readonly&response_type=code\n",
            "\n",
            "Enter your authorization code:\n",
            "··········\n",
            "Mounted at /content/drive\n"
          ],
          "name": "stdout"
        }
      ]
    },
    {
      "metadata": {
        "id": "W-zp_1lKAg14",
        "colab_type": "code",
        "outputId": "fbf3204a-d0a2-4287-df07-7af19d312159",
        "colab": {
          "base_uri": "https://localhost:8080/",
          "height": 153
        }
      },
      "cell_type": "code",
      "source": [
        "#installing keras\n",
        "!pip install keras"
      ],
      "execution_count": 0,
      "outputs": [
        {
          "output_type": "stream",
          "text": [
            "Requirement already satisfied: keras in /usr/local/lib/python3.6/dist-packages (2.2.4)\n",
            "Requirement already satisfied: scipy>=0.14 in /usr/local/lib/python3.6/dist-packages (from keras) (1.1.0)\n",
            "Requirement already satisfied: h5py in /usr/local/lib/python3.6/dist-packages (from keras) (2.8.0)\n",
            "Requirement already satisfied: keras-preprocessing>=1.0.5 in /usr/local/lib/python3.6/dist-packages (from keras) (1.0.9)\n",
            "Requirement already satisfied: keras-applications>=1.0.6 in /usr/local/lib/python3.6/dist-packages (from keras) (1.0.7)\n",
            "Requirement already satisfied: pyyaml in /usr/local/lib/python3.6/dist-packages (from keras) (3.13)\n",
            "Requirement already satisfied: numpy>=1.9.1 in /usr/local/lib/python3.6/dist-packages (from keras) (1.14.6)\n",
            "Requirement already satisfied: six>=1.9.0 in /usr/local/lib/python3.6/dist-packages (from keras) (1.11.0)\n"
          ],
          "name": "stdout"
        }
      ]
    },
    {
      "metadata": {
        "id": "7OslKggVBbPh",
        "colab_type": "code",
        "outputId": "7e39a1f0-fa9a-44dc-abf3-2cff1c3b4fb1",
        "colab": {
          "base_uri": "https://localhost:8080/",
          "height": 34
        }
      },
      "cell_type": "code",
      "source": [
        "#importing the keras libraries and packages\n",
        "from keras.models import Sequential\n",
        "from keras.layers import Convolution2D\n",
        "from keras.layers import MaxPooling2D\n",
        "from keras.layers import Flatten\n",
        "from keras.layers import Dense"
      ],
      "execution_count": 0,
      "outputs": [
        {
          "output_type": "stream",
          "text": [
            "Using TensorFlow backend.\n"
          ],
          "name": "stderr"
        }
      ]
    },
    {
      "metadata": {
        "id": "0_27xDjwDTBA",
        "colab_type": "code",
        "colab": {}
      },
      "cell_type": "code",
      "source": [
        "#Initialising the CNN\n",
        "classifier = Sequential()"
      ],
      "execution_count": 0,
      "outputs": []
    },
    {
      "metadata": {
        "id": "8D_CEL4DDfMm",
        "colab_type": "code",
        "outputId": "bc65d397-627f-4316-a0d2-ce2f946d64cb",
        "colab": {
          "base_uri": "https://localhost:8080/",
          "height": 122
        }
      },
      "cell_type": "code",
      "source": [
        "# Step 1 - Convolution\n",
        "classifier.add(Convolution2D(32, 3, 3, input_shape = (64, 64, 3), activation = 'relu'))\n"
      ],
      "execution_count": 0,
      "outputs": [
        {
          "output_type": "stream",
          "text": [
            "WARNING:tensorflow:From /usr/local/lib/python3.6/dist-packages/tensorflow/python/framework/op_def_library.py:263: colocate_with (from tensorflow.python.framework.ops) is deprecated and will be removed in a future version.\n",
            "Instructions for updating:\n",
            "Colocations handled automatically by placer.\n"
          ],
          "name": "stdout"
        },
        {
          "output_type": "stream",
          "text": [
            "/usr/local/lib/python3.6/dist-packages/ipykernel_launcher.py:1: UserWarning: Update your `Conv2D` call to the Keras 2 API: `Conv2D(32, (3, 3), input_shape=(64, 64, 3..., activation=\"relu\")`\n",
            "  \"\"\"Entry point for launching an IPython kernel.\n"
          ],
          "name": "stderr"
        }
      ]
    },
    {
      "metadata": {
        "id": "2SfKcvaIDiU3",
        "colab_type": "code",
        "colab": {}
      },
      "cell_type": "code",
      "source": [
        "# Step 2 - Pooling\n",
        "classifier.add(MaxPooling2D(pool_size = (2, 2)))"
      ],
      "execution_count": 0,
      "outputs": []
    },
    {
      "metadata": {
        "id": "sTo6yCVgDwrq",
        "colab_type": "code",
        "outputId": "a3b25d0a-23dd-4006-d9c2-af187b1473dc",
        "colab": {
          "base_uri": "https://localhost:8080/",
          "height": 71
        }
      },
      "cell_type": "code",
      "source": [
        "# Adding a second convolutional layer\n",
        "classifier.add(Convolution2D(32, 3, 3, activation = 'relu'))\n",
        "classifier.add(MaxPooling2D(pool_size = (2, 2)))"
      ],
      "execution_count": 0,
      "outputs": [
        {
          "output_type": "stream",
          "text": [
            "/usr/local/lib/python3.6/dist-packages/ipykernel_launcher.py:1: UserWarning: Update your `Conv2D` call to the Keras 2 API: `Conv2D(32, (3, 3), activation=\"relu\")`\n",
            "  \"\"\"Entry point for launching an IPython kernel.\n"
          ],
          "name": "stderr"
        }
      ]
    },
    {
      "metadata": {
        "id": "6HBmoh3cEYUU",
        "colab_type": "code",
        "colab": {}
      },
      "cell_type": "code",
      "source": [
        "# Step 3 - Flattening\n",
        "classifier.add(Flatten())"
      ],
      "execution_count": 0,
      "outputs": []
    },
    {
      "metadata": {
        "id": "K4HXpJNdEbju",
        "colab_type": "code",
        "outputId": "1337d45e-ca84-4a03-96a7-2d7bdf65843d",
        "colab": {
          "base_uri": "https://localhost:8080/",
          "height": 105
        }
      },
      "cell_type": "code",
      "source": [
        "# Step 4 - Full connection\n",
        "classifier.add(Dense(output_dim = 128, activation = 'relu'))\n",
        "classifier.add(Dense(output_dim = 1, activation = 'sigmoid'))\n"
      ],
      "execution_count": 0,
      "outputs": [
        {
          "output_type": "stream",
          "text": [
            "/usr/local/lib/python3.6/dist-packages/ipykernel_launcher.py:1: UserWarning: Update your `Dense` call to the Keras 2 API: `Dense(activation=\"relu\", units=128)`\n",
            "  \"\"\"Entry point for launching an IPython kernel.\n",
            "/usr/local/lib/python3.6/dist-packages/ipykernel_launcher.py:2: UserWarning: Update your `Dense` call to the Keras 2 API: `Dense(activation=\"sigmoid\", units=1)`\n",
            "  \n"
          ],
          "name": "stderr"
        }
      ]
    },
    {
      "metadata": {
        "id": "9aG6f11xEf8u",
        "colab_type": "code",
        "colab": {}
      },
      "cell_type": "code",
      "source": [
        "# Compiling the CNN\n",
        "classifier.compile(optimizer = 'adam', loss = 'binary_crossentropy', metrics = ['accuracy'])\n",
        "\n"
      ],
      "execution_count": 0,
      "outputs": []
    },
    {
      "metadata": {
        "id": "3pbjOO6KEqir",
        "colab_type": "text"
      },
      "cell_type": "markdown",
      "source": [
        "**Part 2 - Fitting the CNN to the images**\n"
      ]
    },
    {
      "metadata": {
        "id": "CQYuLoB_El2x",
        "colab_type": "code",
        "colab": {}
      },
      "cell_type": "code",
      "source": [
        "from keras.preprocessing.image import ImageDataGenerator"
      ],
      "execution_count": 0,
      "outputs": []
    },
    {
      "metadata": {
        "id": "JLkLfD9pFIJW",
        "colab_type": "code",
        "colab": {}
      },
      "cell_type": "code",
      "source": [
        "train_datagen = ImageDataGenerator(rescale = 1./255,\n",
        "                                   shear_range = 0.2,\n",
        "                                   zoom_range = 0.2,\n",
        "                                   horizontal_flip = True)\n"
      ],
      "execution_count": 0,
      "outputs": []
    },
    {
      "metadata": {
        "id": "SC7x2OsoFMad",
        "colab_type": "code",
        "colab": {}
      },
      "cell_type": "code",
      "source": [
        "test_datagen = ImageDataGenerator(rescale = 1./255)"
      ],
      "execution_count": 0,
      "outputs": []
    },
    {
      "metadata": {
        "id": "4ofmgntyFPiz",
        "colab_type": "code",
        "outputId": "93daf3b7-137f-4ae5-b6f6-b6300ac1e511",
        "colab": {
          "base_uri": "https://localhost:8080/",
          "height": 34
        }
      },
      "cell_type": "code",
      "source": [
        "training_set = train_datagen.flow_from_directory('drive/My Drive/dataset/training_set',\n",
        "                                                 target_size = (64, 64),\n",
        "                                                 batch_size = 32,\n",
        "                                                 class_mode = 'binary')\n"
      ],
      "execution_count": 0,
      "outputs": [
        {
          "output_type": "stream",
          "text": [
            "Found 8006 images belonging to 2 classes.\n"
          ],
          "name": "stdout"
        }
      ]
    },
    {
      "metadata": {
        "id": "6VAk6hF9ofD2",
        "colab_type": "code",
        "outputId": "ce2461af-f75c-45d1-e93c-6d2415998d9e",
        "colab": {
          "base_uri": "https://localhost:8080/",
          "height": 34
        }
      },
      "cell_type": "code",
      "source": [
        "test_set = test_datagen.flow_from_directory('drive/My Drive/dataset/test_set',\n",
        "                                            target_size = (64, 64),\n",
        "                                            batch_size = 32,\n",
        "                                            class_mode = 'binary')\n"
      ],
      "execution_count": 0,
      "outputs": [
        {
          "output_type": "stream",
          "text": [
            "Found 2000 images belonging to 2 classes.\n"
          ],
          "name": "stdout"
        }
      ]
    },
    {
      "metadata": {
        "id": "s9c65zGObUnc",
        "colab_type": "code",
        "outputId": "72dea089-1bfa-4537-8a4d-9b166a2d73af",
        "colab": {
          "base_uri": "https://localhost:8080/",
          "height": 1023
        }
      },
      "cell_type": "code",
      "source": [
        "classifier.fit_generator(training_set,\n",
        "                         samples_per_epoch = 8000,\n",
        "                         nb_epoch = 25,\n",
        "                         validation_data = test_set,\n",
        "                         nb_val_samples = 2000)"
      ],
      "execution_count": 17,
      "outputs": [
        {
          "output_type": "stream",
          "text": [
            "WARNING:tensorflow:From /usr/local/lib/python3.6/dist-packages/tensorflow/python/ops/math_ops.py:3066: to_int32 (from tensorflow.python.ops.math_ops) is deprecated and will be removed in a future version.\n",
            "Instructions for updating:\n",
            "Use tf.cast instead.\n"
          ],
          "name": "stdout"
        },
        {
          "output_type": "stream",
          "text": [
            "/usr/local/lib/python3.6/dist-packages/ipykernel_launcher.py:5: UserWarning: The semantics of the Keras 2 argument `steps_per_epoch` is not the same as the Keras 1 argument `samples_per_epoch`. `steps_per_epoch` is the number of batches to draw from the generator at each epoch. Basically steps_per_epoch = samples_per_epoch/batch_size. Similarly `nb_val_samples`->`validation_steps` and `val_samples`->`steps` arguments have changed. Update your method calls accordingly.\n",
            "  \"\"\"\n",
            "/usr/local/lib/python3.6/dist-packages/ipykernel_launcher.py:5: UserWarning: Update your `fit_generator` call to the Keras 2 API: `fit_generator(<keras_pre..., validation_data=<keras_pre..., steps_per_epoch=250, epochs=25, validation_steps=2000)`\n",
            "  \"\"\"\n"
          ],
          "name": "stderr"
        },
        {
          "output_type": "stream",
          "text": [
            "Epoch 1/25\n",
            "250/250 [==============================] - 2856s 11s/step - loss: 0.6575 - acc: 0.5965 - val_loss: 0.6071 - val_acc: 0.6770\n",
            "Epoch 2/25\n",
            "250/250 [==============================] - 350s 1s/step - loss: 0.5900 - acc: 0.6807 - val_loss: 0.5459 - val_acc: 0.7149\n",
            "Epoch 3/25\n",
            "250/250 [==============================] - 349s 1s/step - loss: 0.5456 - acc: 0.7247 - val_loss: 0.5216 - val_acc: 0.7442\n",
            "Epoch 4/25\n",
            "250/250 [==============================] - 350s 1s/step - loss: 0.5233 - acc: 0.7447 - val_loss: 0.4968 - val_acc: 0.7657\n",
            "Epoch 5/25\n",
            "250/250 [==============================] - 352s 1s/step - loss: 0.5025 - acc: 0.7600 - val_loss: 0.4845 - val_acc: 0.7745\n",
            "Epoch 6/25\n",
            "250/250 [==============================] - 351s 1s/step - loss: 0.4804 - acc: 0.7704 - val_loss: 0.4691 - val_acc: 0.7760\n",
            "Epoch 7/25\n",
            "250/250 [==============================] - 351s 1s/step - loss: 0.4564 - acc: 0.7821 - val_loss: 0.5271 - val_acc: 0.7509\n",
            "Epoch 8/25\n",
            "250/250 [==============================] - 350s 1s/step - loss: 0.4434 - acc: 0.7865 - val_loss: 0.4711 - val_acc: 0.7855\n",
            "Epoch 9/25\n",
            "250/250 [==============================] - 351s 1s/step - loss: 0.4373 - acc: 0.7913 - val_loss: 0.4536 - val_acc: 0.7920\n",
            "Epoch 10/25\n",
            "250/250 [==============================] - 349s 1s/step - loss: 0.4220 - acc: 0.8028 - val_loss: 0.4467 - val_acc: 0.7989\n",
            "Epoch 11/25\n",
            "250/250 [==============================] - 351s 1s/step - loss: 0.4012 - acc: 0.8136 - val_loss: 0.4769 - val_acc: 0.7835\n",
            "Epoch 12/25\n",
            "250/250 [==============================] - 352s 1s/step - loss: 0.4013 - acc: 0.8182 - val_loss: 0.4807 - val_acc: 0.7884\n",
            "Epoch 13/25\n",
            "250/250 [==============================] - 351s 1s/step - loss: 0.3798 - acc: 0.8214 - val_loss: 0.4653 - val_acc: 0.8072\n",
            "Epoch 14/25\n",
            "250/250 [==============================] - 347s 1s/step - loss: 0.3712 - acc: 0.8343 - val_loss: 0.4513 - val_acc: 0.8012\n",
            "Epoch 15/25\n",
            "250/250 [==============================] - 347s 1s/step - loss: 0.3594 - acc: 0.8437 - val_loss: 0.4595 - val_acc: 0.8012\n",
            "Epoch 16/25\n",
            "250/250 [==============================] - 346s 1s/step - loss: 0.3474 - acc: 0.8448 - val_loss: 0.4652 - val_acc: 0.7941\n",
            "Epoch 17/25\n",
            "250/250 [==============================] - 347s 1s/step - loss: 0.3430 - acc: 0.8440 - val_loss: 0.4696 - val_acc: 0.7961\n",
            "Epoch 18/25\n",
            "250/250 [==============================] - 351s 1s/step - loss: 0.3248 - acc: 0.8526 - val_loss: 0.4541 - val_acc: 0.8091\n",
            "Epoch 19/25\n",
            "250/250 [==============================] - 344s 1s/step - loss: 0.3132 - acc: 0.8615 - val_loss: 0.4575 - val_acc: 0.8125\n",
            "Epoch 20/25\n",
            "250/250 [==============================] - 346s 1s/step - loss: 0.3146 - acc: 0.8596 - val_loss: 0.4609 - val_acc: 0.8081\n",
            "Epoch 21/25\n",
            "250/250 [==============================] - 350s 1s/step - loss: 0.2922 - acc: 0.8732 - val_loss: 0.5217 - val_acc: 0.7910\n",
            "Epoch 22/25\n",
            "250/250 [==============================] - 350s 1s/step - loss: 0.2847 - acc: 0.8777 - val_loss: 0.5722 - val_acc: 0.7637\n",
            "Epoch 23/25\n",
            "250/250 [==============================] - 348s 1s/step - loss: 0.2746 - acc: 0.8850 - val_loss: 0.5051 - val_acc: 0.7924\n",
            "Epoch 24/25\n",
            "250/250 [==============================] - 354s 1s/step - loss: 0.2542 - acc: 0.8923 - val_loss: 0.4876 - val_acc: 0.8096\n",
            "Epoch 25/25\n",
            "250/250 [==============================] - 350s 1s/step - loss: 0.2549 - acc: 0.8929 - val_loss: 0.4786 - val_acc: 0.8129\n"
          ],
          "name": "stdout"
        },
        {
          "output_type": "execute_result",
          "data": {
            "text/plain": [
              "<keras.callbacks.History at 0x7f807dc841d0>"
            ]
          },
          "metadata": {
            "tags": []
          },
          "execution_count": 17
        }
      ]
    },
    {
      "metadata": {
        "id": "BkaQ0fXsTBvW",
        "colab_type": "code",
        "colab": {}
      },
      "cell_type": "code",
      "source": [
        ""
      ],
      "execution_count": 0,
      "outputs": []
    }
  ]
}